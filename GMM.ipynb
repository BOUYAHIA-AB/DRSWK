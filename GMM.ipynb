{
 "cells": [
  {
   "cell_type": "code",
   "execution_count": 42,
   "id": "32fe67d6",
   "metadata": {},
   "outputs": [
    {
     "name": "stdout",
     "output_type": "stream",
     "text": [
      "The autoreload extension is already loaded. To reload it, use:\n",
      "  %reload_ext autoreload\n"
     ]
    }
   ],
   "source": [
    "%load_ext autoreload\n",
    "%autoreload 2"
   ]
  },
  {
   "cell_type": "code",
   "execution_count": 43,
   "id": "25ef5641",
   "metadata": {},
   "outputs": [
    {
     "name": "stdout",
     "output_type": "stream",
     "text": [
      "Device: cpu\n",
      "\n"
     ]
    }
   ],
   "source": [
    " import torch\n",
    "device = torch.device(\"cuda:0\" if torch.cuda.is_available() else \"cpu\")\n",
    "print(\"Device: {}\\n\".format(device))"
   ]
  },
  {
   "cell_type": "code",
   "execution_count": 44,
   "id": "8fe2aba8",
   "metadata": {},
   "outputs": [],
   "source": [
    "import pandas as pd\n",
    "import pickle\n",
    "import time\n",
    "from torch.distributions import Categorical\n",
    "from torch.distributions.uniform import Uniform\n",
    "import torch.nn.functional as F\n",
    "import numpy as np \n",
    "\n",
    "from src.synthetic_helpers import *\n",
    "from src.SWkernels import k_sw_rf\n",
    "from src.MMDkernels import k_MMD\n",
    "from src.training import train_multiple_kernels\n",
    "from src.classifiers import KRR"
   ]
  },
  {
   "cell_type": "code",
   "execution_count": 69,
   "id": "13325d70",
   "metadata": {},
   "outputs": [],
   "source": [
    "# GMM setup\n",
    "nl = [50,250] # samples/GMM \n",
    "T = 100 # number of datasets [100,500] \n",
    "K = 2 # maximum number of components [2,10]\n",
    "d = 2 # dimension [2,10]\n",
    "num_exp = len(nl)\n",
    "epoch = 5\n",
    "T_val = 50\n",
    "T_test = 100"
   ]
  },
  {
   "cell_type": "code",
   "execution_count": 70,
   "id": "cb37fb03",
   "metadata": {
    "scrolled": false
   },
   "outputs": [
    {
     "name": "stdout",
     "output_type": "stream",
     "text": [
      "Starting with T=  100  n= 50  K=  2  d=  2\n",
      "Starting SW2 for 5 epochs\n",
      "Starting SW1 for 5 epochs\n",
      "Starting MMD for 5 epochs\n",
      "Starting with T=  100  n= 250  K=  2  d=  2\n",
      "Starting SW2 for 5 epochs\n",
      "Starting SW1 for 5 epochs\n",
      "Starting MMD for 5 epochs\n"
     ]
    }
   ],
   "source": [
    "v = False #verbose\n",
    "dic_res = {\"n\":nl,\"T\":T,\"K\":K,\"d\":d,\"SW2\":[], \"SW1\":[],\"MMD\":[]}\n",
    "means, covs, y = sample_moments(T, d, K_max=K)\n",
    "means_val, covs_val, y_val = sample_moments(T_val, d, K_max=K)\n",
    "means_test, covs_test, y_test = sample_moments(T_test, d, K_max=K)\n",
    "for idx_exp in range(num_exp):\n",
    "    n = nl[idx_exp]\n",
    "    print(\"Starting with T= \", T, \" n=\" , n, \" K= \", K, \" d= \", d)\n",
    "    X = sample_from_moments(means, covs, n, K, epoch)\n",
    "    X_val = sample_from_moments(means_val, covs_val, n, K, epoch)\n",
    "    X_test = sample_from_moments(means_test, covs_test, n, K, epoch)\n",
    "    \n",
    "    if \"SW2\" in dic_res:\n",
    "        print(\"Starting SW2 for {} epochs\".format(epoch))\n",
    "        rmse = sw_training(X, y, X_val, y_val, X_test, y_test, 2, epoch, v) # SW2\n",
    "        dic_res[\"SW2\"].append(rmse)\n",
    "\n",
    "    if \"SW1\" in dic_res:\n",
    "        print(\"Starting SW1 for {} epochs\".format(epoch))\n",
    "        rmse = sw_training(X, y, X_val, y_val, X_test, y_test, 1, epoch, v) # SW1\n",
    "        dic_res[\"SW1\"].append(rmse)\n",
    "    if \"MMD\" in dic_res:\n",
    "        print(\"Starting MMD for {} epochs\".format(epoch))\n",
    "        rmse = mmd_training(X, y, X_val, y_val, X_test, y_test, epoch, v) # MMD\n",
    "        dic_res[\"MMD\"].append(rmse)\n",
    "    pickle.dump(dic_res, open(\"results/gmm_res.p\", \"wb\" ))"
   ]
  },
  {
   "cell_type": "code",
   "execution_count": 71,
   "id": "1ab3ad5e",
   "metadata": {},
   "outputs": [
    {
     "data": {
      "text/html": [
       "<div>\n",
       "<style scoped>\n",
       "    .dataframe tbody tr th:only-of-type {\n",
       "        vertical-align: middle;\n",
       "    }\n",
       "\n",
       "    .dataframe tbody tr th {\n",
       "        vertical-align: top;\n",
       "    }\n",
       "\n",
       "    .dataframe thead th {\n",
       "        text-align: right;\n",
       "    }\n",
       "</style>\n",
       "<table border=\"1\" class=\"dataframe\">\n",
       "  <thead>\n",
       "    <tr style=\"text-align: right;\">\n",
       "      <th></th>\n",
       "      <th>MMD</th>\n",
       "      <th>SW2</th>\n",
       "      <th>SW1</th>\n",
       "    </tr>\n",
       "  </thead>\n",
       "  <tbody>\n",
       "    <tr>\n",
       "      <th>50</th>\n",
       "      <td>0.67975</td>\n",
       "      <td>0.494770</td>\n",
       "      <td>0.484796</td>\n",
       "    </tr>\n",
       "    <tr>\n",
       "      <th>250</th>\n",
       "      <td>0.67590</td>\n",
       "      <td>0.501903</td>\n",
       "      <td>0.505643</td>\n",
       "    </tr>\n",
       "  </tbody>\n",
       "</table>\n",
       "</div>"
      ],
      "text/plain": [
       "         MMD       SW2       SW1\n",
       "50   0.67975  0.494770  0.484796\n",
       "250  0.67590  0.501903  0.505643"
      ]
     },
     "execution_count": 71,
     "metadata": {},
     "output_type": "execute_result"
    }
   ],
   "source": [
    "columns = [\"MMD\", \"SW2\", \"SW1\"]\n",
    "index = dic_res[\"n\"]\n",
    "res = np.array([np.array(dic_res[k]) for k in columns])\n",
    "res_mean = res.mean(axis=-1)\n",
    "res_std = res.std(axis=-1)\n",
    "pd.DataFrame(res_mean.T, columns=columns, index=index) "
   ]
  },
  {
   "cell_type": "code",
   "execution_count": 72,
   "id": "e69967af",
   "metadata": {},
   "outputs": [
    {
     "data": {
      "text/html": [
       "<div>\n",
       "<style scoped>\n",
       "    .dataframe tbody tr th:only-of-type {\n",
       "        vertical-align: middle;\n",
       "    }\n",
       "\n",
       "    .dataframe tbody tr th {\n",
       "        vertical-align: top;\n",
       "    }\n",
       "\n",
       "    .dataframe thead th {\n",
       "        text-align: right;\n",
       "    }\n",
       "</style>\n",
       "<table border=\"1\" class=\"dataframe\">\n",
       "  <thead>\n",
       "    <tr style=\"text-align: right;\">\n",
       "      <th></th>\n",
       "      <th>MMD</th>\n",
       "      <th>SW2</th>\n",
       "      <th>SW1</th>\n",
       "    </tr>\n",
       "  </thead>\n",
       "  <tbody>\n",
       "    <tr>\n",
       "      <th>50</th>\n",
       "      <td>0.077073</td>\n",
       "      <td>0.034674</td>\n",
       "      <td>0.031191</td>\n",
       "    </tr>\n",
       "    <tr>\n",
       "      <th>250</th>\n",
       "      <td>0.084611</td>\n",
       "      <td>0.009682</td>\n",
       "      <td>0.018036</td>\n",
       "    </tr>\n",
       "  </tbody>\n",
       "</table>\n",
       "</div>"
      ],
      "text/plain": [
       "          MMD       SW2       SW1\n",
       "50   0.077073  0.034674  0.031191\n",
       "250  0.084611  0.009682  0.018036"
      ]
     },
     "execution_count": 72,
     "metadata": {},
     "output_type": "execute_result"
    }
   ],
   "source": [
    "pd.DataFrame(res_std.T, columns=columns, index=index) "
   ]
  }
 ],
 "metadata": {
  "kernelspec": {
   "display_name": "Python 3 (ipykernel)",
   "language": "python",
   "name": "python3"
  },
  "language_info": {
   "codemirror_mode": {
    "name": "ipython",
    "version": 3
   },
   "file_extension": ".py",
   "mimetype": "text/x-python",
   "name": "python",
   "nbconvert_exporter": "python",
   "pygments_lexer": "ipython3",
   "version": "3.10.4"
  }
 },
 "nbformat": 4,
 "nbformat_minor": 5
}
