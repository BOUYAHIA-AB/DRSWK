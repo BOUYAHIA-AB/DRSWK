{
 "cells": [
  {
   "cell_type": "code",
   "execution_count": 53,
   "id": "859b9a08",
   "metadata": {},
   "outputs": [
    {
     "name": "stdout",
     "output_type": "stream",
     "text": [
      "The autoreload extension is already loaded. To reload it, use:\n",
      "  %reload_ext autoreload\n"
     ]
    }
   ],
   "source": [
    "%load_ext autoreload\n",
    "%autoreload 2"
   ]
  },
  {
   "cell_type": "code",
   "execution_count": 54,
   "id": "37ee3f1d",
   "metadata": {},
   "outputs": [],
   "source": [
    "import torch\n",
    "import pickle\n",
    "import time\n",
    "from torch.distributions import Categorical\n",
    "from torch.distributions.uniform import Uniform\n",
    "import torch.nn.functional as F\n",
    "import numpy as np \n",
    "\n",
    "from src.synthetic_helpers import *\n",
    "from src.SWkernels import k_sw_rf\n",
    "from src.MMDkernels import k_MMD\n",
    "from src.training import train_multiple_kernels\n",
    "from src.classifiers import KRR"
   ]
  },
  {
   "cell_type": "code",
   "execution_count": 55,
   "id": "92fdd765",
   "metadata": {},
   "outputs": [],
   "source": [
    "# GMM setup\n",
    "nl = [5,10,50]#,100,250,500,1000] # samples/GMM\n",
    "T = 10 # number of datasets\n",
    "K = 2 # maximum number of components\n",
    "d = 2 # dimension\n",
    "num_exp = len(nl)\n",
    "epoch = 5\n",
    "T_val = 5\n",
    "T_test = 10\n",
    "dic_res = {\"n\":nl,\"T\":T,\"K\":K,\"d\":d,\"SW2\":[],\"MMD\":[]}"
   ]
  },
  {
   "cell_type": "code",
   "execution_count": 56,
   "id": "44e501d4",
   "metadata": {},
   "outputs": [
    {
     "name": "stdout",
     "output_type": "stream",
     "text": [
      "10 torch.Size([1, 2])\n",
      "Starting with T=  10  n= 5  K=  2  d=  2\n",
      "torch.Size([10, 5, 5, 2]) torch.Size([10, 2])\n",
      "Starting with T=  10  n= 10  K=  2  d=  2\n",
      "torch.Size([10, 5, 10, 2]) torch.Size([10, 2])\n",
      "Starting with T=  10  n= 50  K=  2  d=  2\n",
      "torch.Size([10, 5, 50, 2]) torch.Size([10, 2])\n",
      "Starting SW2 for 5 epochs\n",
      "SW epoch 1/5\n",
      "Number of random features: 100\n",
      "torch.Size([10, 100]) torch.Size([5, 100])\n",
      "Starting training...\n",
      "\n"
     ]
    },
    {
     "name": "stderr",
     "output_type": "stream",
     "text": [
      "100%|███████████████████████████████████████████████████████████████████████████████████████████████████████████████████████████████████████████████| 1/1 [00:00<00:00, 20.69it/s]"
     ]
    },
    {
     "name": "stdout",
     "output_type": "stream",
     "text": [
      "Acc: 1.0, idx: (0, 0)\n",
      "Gammas rbf tensor([1.0000e-05])\n",
      "Unexpected exception formatting exception. Falling back to standard exception\n"
     ]
    },
    {
     "name": "stderr",
     "output_type": "stream",
     "text": [
      "\n",
      "Traceback (most recent call last):\n",
      "  File \"/opt/miniconda3/envs/drswk/lib/python3.9/site-packages/IPython/core/interactiveshell.py\", line 3397, in run_code\n",
      "    exec(code_obj, self.user_global_ns, self.user_ns)\n",
      "  File \"/var/folders/0w/pby36mjs3dvbph3n5jkjkyj80000gn/T/ipykernel_5918/3061801934.py\", line 15, in <cell line: 13>\n",
      "    rmse = sw_training(X, y, X_val, y_val, X_test, y_test, 2, epoch) # SW2\n",
      "  File \"/Users/hal/Desktop/Research/IITResearch/DRSWK/src/synthetic_helpers.py\", line 99, in sw_training\n",
      "    start_time = time.time()\n",
      "NameError: name 'time' is not defined\n",
      "\n",
      "During handling of the above exception, another exception occurred:\n",
      "\n",
      "Traceback (most recent call last):\n",
      "  File \"/opt/miniconda3/envs/drswk/lib/python3.9/site-packages/IPython/core/interactiveshell.py\", line 1992, in showtraceback\n",
      "    stb = self.InteractiveTB.structured_traceback(\n",
      "  File \"/opt/miniconda3/envs/drswk/lib/python3.9/site-packages/IPython/core/ultratb.py\", line 1118, in structured_traceback\n",
      "    return FormattedTB.structured_traceback(\n",
      "  File \"/opt/miniconda3/envs/drswk/lib/python3.9/site-packages/IPython/core/ultratb.py\", line 1012, in structured_traceback\n",
      "    return VerboseTB.structured_traceback(\n",
      "  File \"/opt/miniconda3/envs/drswk/lib/python3.9/site-packages/IPython/core/ultratb.py\", line 865, in structured_traceback\n",
      "    formatted_exception = self.format_exception_as_a_whole(etype, evalue, etb, number_of_lines_of_context,\n",
      "  File \"/opt/miniconda3/envs/drswk/lib/python3.9/site-packages/IPython/core/ultratb.py\", line 818, in format_exception_as_a_whole\n",
      "    frames.append(self.format_record(r))\n",
      "  File \"/opt/miniconda3/envs/drswk/lib/python3.9/site-packages/IPython/core/ultratb.py\", line 736, in format_record\n",
      "    result += ''.join(_format_traceback_lines(frame_info.lines, Colors, self.has_colors, lvals))\n",
      "  File \"/opt/miniconda3/envs/drswk/lib/python3.9/site-packages/stack_data/utils.py\", line 145, in cached_property_wrapper\n",
      "    value = obj.__dict__[self.func.__name__] = self.func(obj)\n",
      "  File \"/opt/miniconda3/envs/drswk/lib/python3.9/site-packages/stack_data/core.py\", line 698, in lines\n",
      "    pieces = self.included_pieces\n",
      "  File \"/opt/miniconda3/envs/drswk/lib/python3.9/site-packages/stack_data/utils.py\", line 145, in cached_property_wrapper\n",
      "    value = obj.__dict__[self.func.__name__] = self.func(obj)\n",
      "  File \"/opt/miniconda3/envs/drswk/lib/python3.9/site-packages/stack_data/core.py\", line 649, in included_pieces\n",
      "    pos = scope_pieces.index(self.executing_piece)\n",
      "  File \"/opt/miniconda3/envs/drswk/lib/python3.9/site-packages/stack_data/utils.py\", line 145, in cached_property_wrapper\n",
      "    value = obj.__dict__[self.func.__name__] = self.func(obj)\n",
      "  File \"/opt/miniconda3/envs/drswk/lib/python3.9/site-packages/stack_data/core.py\", line 628, in executing_piece\n",
      "    return only(\n",
      "  File \"/opt/miniconda3/envs/drswk/lib/python3.9/site-packages/executing/executing.py\", line 164, in only\n",
      "    raise NotOneValueFound('Expected one value, found 0')\n",
      "executing.executing.NotOneValueFound: Expected one value, found 0\n"
     ]
    }
   ],
   "source": [
    "means, covs, y = sample_moments(T, d, K_max=K)\n",
    "means_val, covs_val, y_val = sample_moments(T_val, d, K_max=K)\n",
    "means_test, covs_test, y_test = sample_moments(T_test, d, K_max=K)\n",
    "print(len(means), means[0].shape)\n",
    "for idx_exp in range(num_exp):\n",
    "    n = nl[idx_exp]\n",
    "    print(\"Starting with T= \", T, \" n=\" , n, \" K= \", K, \" d= \", d)\n",
    "    X = sample_from_moments(means, covs, n, K, epoch)\n",
    "    X_val = sample_from_moments(means_val, covs_val, n, K, epoch)\n",
    "    X_test = sample_from_moments(means_test, covs_test, n, K, epoch)\n",
    "    print(X.shape, y.shape)\n",
    "    \n",
    "if \"SW2\" in dic_res:\n",
    "    print(\"Starting SW2 for {} epochs\".format(epoch))\n",
    "    rmse = sw_training(X, y, X_val, y_val, X_test, y_test, 2, epoch) # SW2\n",
    "    dic_res[\"SW2\"].append(rmse)\n",
    "#if \"SW1\" in dic_res:\n",
    "    #rmse = sw_training(X, y, X_val, y_val, X_test, y_test, 1, epoch) # SW1\n",
    "# if \"MMD\" in dic_res:\n",
    "#     print(\"Starting MMD for {} epochs\".format(epoch))\n",
    "#     rmse = mmd_training(X, y, X_val, y_val, X_test, y_test, epoch) # MMD\n",
    "#     dic_res[\"MMD\"].append(rmse)\n",
    "# pickle.dump(dic_res, open(\"gmm_res_10_SW2_100_MMD.p\", \"wb\" ))"
   ]
  },
  {
   "cell_type": "code",
   "execution_count": null,
   "id": "93bf9c4e",
   "metadata": {},
   "outputs": [],
   "source": []
  }
 ],
 "metadata": {
  "kernelspec": {
   "display_name": "Python 3 (ipykernel)",
   "language": "python",
   "name": "python3"
  },
  "language_info": {
   "codemirror_mode": {
    "name": "ipython",
    "version": 3
   },
   "file_extension": ".py",
   "mimetype": "text/x-python",
   "name": "python",
   "nbconvert_exporter": "python",
   "pygments_lexer": "ipython3",
   "version": "3.9.12"
  }
 },
 "nbformat": 4,
 "nbformat_minor": 5
}
